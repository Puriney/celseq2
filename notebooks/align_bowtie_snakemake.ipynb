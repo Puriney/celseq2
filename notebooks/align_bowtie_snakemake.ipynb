{
 "cells": [
  {
   "cell_type": "code",
   "execution_count": 2,
   "metadata": {},
   "outputs": [
    {
     "name": "stdout",
     "output_type": "stream",
     "text": [
      "['BC-2-AGCTAG', 'BC-73-GTTGAG', 'BC-6-CATGCA', 'BC-50-GACATG', 'BC-48-TGTCGA', 'BC-49-TGGTAC', 'BC-46-TGCAGA', 'BC-41-CTGTAC', 'BC-32-ACGTAC', 'BC-91-GAAGTG', 'BC-29-ACCATG', 'BC-81-CTCAAC', 'BC-60-CAACAG', 'BC-79-ACCAGA', 'BC-64-CACTTC', 'BC-78-ACCAAC', 'BC-67-TCACCA', 'BC-61-CAACCA', 'BC-16-TCTGCA', 'BC-18-TCGACA', 'BC-95-GAGTTG', 'BC-4-AGCTTC', 'BC-27-GTGATC', 'BC-86-TGAGGA', 'BC-38-CTCATG', 'BC-66-CAGACA', 'BC-39-CTCAGA', 'BC-19-TCGATC', 'BC-80-ACTCAC', 'BC-74-GTTGTC', 'BC-1-AGACTC', 'BC-89-TGGTGA', 'BC-90-GAAGAC', 'BC-68-TCACTC', 'BC-63-CACTCA', 'BC-58-AGGAAG', 'BC-69-TCCTCA', 'BC-31-ACTCGA', 'BC-53-GATCGA', 'BC-44-TGCAAC', 'BC-62-CAACTC', 'BC-3-AGCTCA', 'BC-20-GTACAG', 'BC-12-AGTGCA', 'BC-76-ACAGAC', 'BC-17-TCGAAG', 'BC-45-TGCATG', 'BC-43-TGAGAC', 'BC-34-ACGTGA', 'BC-9-CAGATC', 'BC-5-CATGAG', 'BC-47-TGTCAC', 'BC-23-GTCTAG', 'BC-21-GTACCA', 'BC-24-GTCTCA', 'BC-96-GAGTGA', 'BC-94-GACAGA', 'BC-28-ACAGTG', 'BC-83-CTTCTG', 'BC-54-GAGTAC', 'BC-84-CTGTTG', 'BC-22-GTACTC', 'BC-15-TCTGAG', 'BC-51-GATCAC', 'BC-70-TCCTTC', 'BC-33-ACGTTG', 'BC-26-GTGACA', 'BC-87-TGTCTG', 'BC-42-CTGTGA', 'BC-82-CTTCAC', 'BC-85-TGAGTG', 'BC-56-AGACCA', 'BC-77-ACAGGA', 'BC-37-CTAGGA', 'BC-75-GTGAAG', 'BC-14-TCCTAG', 'BC-11-AGGATC', 'BC-25-GTTGCA', 'BC-55-AGACAG', 'BC-65-CAGAAG', 'BC-72-GTCTTC', 'BC-71-TCTGTC', 'BC-13-AGTGTC', 'BC-35-CTAGAC', 'BC-59-AGGACA', 'BC-92-GAAGGA', 'BC-30-ACTCTG', 'BC-10-TCACAG', 'BC-7-CATGTC', 'BC-57-AGTGAG', 'BC-88-TGGTTG', 'BC-8-CACTAG', 'BC-36-CTAGTG', 'BC-93-GACAAC', 'BC-52-GATCTG', 'BC-40-CTTCGA']\n",
      "\u001b[33mProvided cluster nodes: 1\u001b[0m\n",
      "\u001b[33mJob counts:\n",
      "\tcount\tjobs\n",
      "\t96\talign_bowtie2\n",
      "\t1\tall\n",
      "\t97\u001b[0m\n",
      "\u001b[32m\u001b[0m\n",
      "\u001b[32mrule align_bowtie2:\n",
      "    input: /ifs/home/yy1533/Lab/cel-seq-pipe/demo/celseq2/bc_split_Y/BC-72-GTCTTC.fastq\n",
      "    output: /ifs/home/yy1533/Lab/cel-seq-pipe/demo/celseq2/alignment_snake/BC-72-GTCTTC.sam\n",
      "    log: /ifs/home/yy1533/Lab/cel-seq-pipe/demo/celseq2/log/Align-Bowtie2_Cell-BC-72-GTCTTC.log\n",
      "    jobid: 2\n",
      "    wildcards: fq=BC-72-GTCTTC\n",
      "    threads: 5\u001b[0m\n",
      "\u001b[32m\u001b[0m\n",
      "\u001b[33mWaiting at most 5 seconds for missing files.\u001b[0m\n",
      "Exception in thread Thread-1:\n",
      "Traceback (most recent call last):\n",
      "  File \"/ifs/home/yy1533/SHARED_APP/miniconda3/lib/python3.6/site-packages/snakemake/dag.py\", line 318, in check_and_touch_output\n",
      "    wait_for_files(expanded_output, latency_wait=wait)\n",
      "  File \"/ifs/home/yy1533/SHARED_APP/miniconda3/lib/python3.6/site-packages/snakemake/io.py\", line 381, in wait_for_files\n",
      "    latency_wait, \"\\n\".join(get_missing())))\n",
      "OSError: Missing files after 5 seconds:\n",
      "/ifs/home/yy1533/Lab/cel-seq-pipe/demo/celseq2/alignment_snake/BC-72-GTCTTC.sam\n",
      "\n",
      "During handling of the above exception, another exception occurred:\n",
      "\n",
      "Traceback (most recent call last):\n",
      "  File \"/ifs/home/yy1533/SHARED_APP/miniconda3/lib/python3.6/threading.py\", line 916, in _bootstrap_inner\n",
      "    self.run()\n",
      "  File \"/ifs/home/yy1533/SHARED_APP/miniconda3/lib/python3.6/threading.py\", line 864, in run\n",
      "    self._target(*self._args, **self._kwargs)\n",
      "  File \"/ifs/home/yy1533/SHARED_APP/miniconda3/lib/python3.6/site-packages/snakemake/executors.py\", line 603, in _wait_for_jobs\n",
      "    active_job.callback(active_job.job)\n",
      "  File \"/ifs/home/yy1533/SHARED_APP/miniconda3/lib/python3.6/site-packages/snakemake/scheduler.py\", line 261, in _proceed\n",
      "    self.get_executor(job).handle_job_success(job)\n",
      "  File \"/ifs/home/yy1533/SHARED_APP/miniconda3/lib/python3.6/site-packages/snakemake/executors.py\", line 505, in handle_job_success\n",
      "    super().handle_job_success(job, upload_remote=False)\n",
      "  File \"/ifs/home/yy1533/SHARED_APP/miniconda3/lib/python3.6/site-packages/snakemake/executors.py\", line 158, in handle_job_success\n",
      "    ignore_missing_output=ignore_missing_output)\n",
      "  File \"/ifs/home/yy1533/SHARED_APP/miniconda3/lib/python3.6/site-packages/snakemake/dag.py\", line 322, in check_and_touch_output\n",
      "    \"wait time with --latency-wait.\", rule=job.rule)\n",
      "snakemake.exceptions.MissingOutputException: Missing files after 5 seconds:\n",
      "/ifs/home/yy1533/Lab/cel-seq-pipe/demo/celseq2/alignment_snake/BC-72-GTCTTC.sam\n",
      "This might be due to filesystem latency. If that is the case, consider to increase the wait time with --latency-wait.\n",
      "\n",
      "^C\n",
      "\u001b[33mTerminating processes on user request.\u001b[0m\n",
      "\u001b[33mWill exit after finishing currently running jobs.\u001b[0m\n",
      "\u001b[33mRemoving output files of failed job align_bowtie2 since they might be corrupted:\n",
      "/ifs/home/yy1533/Lab/cel-seq-pipe/demo/celseq2/alignment_snake/BC-72-GTCTTC.sam\u001b[0m\n"
     ]
    }
   ],
   "source": [
    "! snakemake -s align_bowtie2.snakemake -j999 --cluster \\\n",
    "\"qsub -S /bin/bash -wd /ifs/home/yy1533/Lab/cel-seq-pipe/qsub \\\n",
    "-M yun.yan@nyumc.org -m abe -j y -l h_vmem=30G -N snakemake_align\"\n",
    "# -pe smp {threads}\""
   ]
  },
  {
   "cell_type": "code",
   "execution_count": null,
   "metadata": {
    "collapsed": true
   },
   "outputs": [],
   "source": []
  }
 ],
 "metadata": {
  "kernelspec": {
   "display_name": "Python 3",
   "language": "python",
   "name": "python3"
  },
  "language_info": {
   "codemirror_mode": {
    "name": "ipython",
    "version": 3
   },
   "file_extension": ".py",
   "mimetype": "text/x-python",
   "name": "python",
   "nbconvert_exporter": "python",
   "pygments_lexer": "ipython3",
   "version": "3.6.0"
  }
 },
 "nbformat": 4,
 "nbformat_minor": 2
}
