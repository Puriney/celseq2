{
 "cells": [
  {
   "cell_type": "code",
   "execution_count": 2,
   "metadata": {
    "collapsed": true
   },
   "outputs": [],
   "source": [
    "from __future__ import print_function, division\n",
    "\n",
    "import csv\n",
    "import os\n",
    "import argparse\n",
    "\n",
    "from itertools import izip\n",
    "from HTSeq import FastqReader\n",
    "from collections import Counter"
   ]
  },
  {
   "cell_type": "code",
   "execution_count": 18,
   "metadata": {
    "collapsed": true
   },
   "outputs": [],
   "source": [
    "%reload_ext line_profiler\n",
    "import line_profiler"
   ]
  },
  {
   "cell_type": "code",
   "execution_count": 3,
   "metadata": {
    "collapsed": true
   },
   "outputs": [],
   "source": [
    "def bc_dict_seq2id(bc_index_fpath):\n",
    "    \"\"\" dict[barcode_seq] = barcode_id \"\"\"\n",
    "    out = dict()\n",
    "    with open(bc_index_fpath, 'rb') as fin:\n",
    "        freader = csv.reader(fin, delimiter='\\t')\n",
    "        next(freader)\n",
    "        out = {row[1]: int(row[0]) for row in freader}\n",
    "    return(out)\n"
   ]
  },
  {
   "cell_type": "code",
   "execution_count": 27,
   "metadata": {
    "collapsed": true
   },
   "outputs": [],
   "source": [
    "def demultiplexing(read1_fpath, read2_fpath, outdir, bc_dict,\n",
    "                   len_umi=6, len_bc=6, len_tx=35, bc_qual_min=10,\n",
    "                   do_bc_rev_complement=False,\n",
    "                   do_tx_rev_complement=False,\n",
    "                   verbose=False):\n",
    "    \"\"\"\n",
    "    Demultiplexing to fastq files based on\n",
    "    barcode sequence.\n",
    "    \"\"\"\n",
    "    fh_umibc = FastqReader(read1_fpath)\n",
    "    fh_tx = FastqReader(read2_fpath)\n",
    "\n",
    "    sample_counter = Counter()\n",
    "\n",
    "    bc_fhout = dict()\n",
    "    for bc_seq, bc_id in bc_dict.iteritems():  # py2\n",
    "        bc_fhout[bc_seq] = os.path.join(outdir, 'BC_{}-{}.fastq'.format(bc_id,\n",
    "                                                                        bc_seq))\n",
    "    bc_fhout['UNKNOWNBC_R1'] = os.path.join(outdir, 'UNKNOWNBC_R1.fastq')\n",
    "    bc_fhout['UNKNOWNBC_R2'] = os.path.join(outdir, 'UNKNOWNBC_R2.fastq')\n",
    "\n",
    "    for bc_seq, v in bc_fhout.items():\n",
    "        bc_fhout[bc_seq] = open(v, 'wb')\n",
    "\n",
    "    for i, (read_umibc, read_tx) in enumerate(izip(fh_umibc, fh_tx)):\n",
    "        sample_counter['total'] += 1\n",
    "        if len(read_umibc) < len_umi + len_bc:\n",
    "            continue\n",
    "\n",
    "        if min(read_umibc.qual[:(len_umi + len_bc)]) < bc_qual_min:\n",
    "            continue\n",
    "\n",
    "        sample_counter['qualified'] += 1\n",
    "        cell_bc = read_umibc.seq[len_umi:(len_umi + len_bc)]\n",
    "        umi = read_umibc.seq[0:len_umi]\n",
    "        try:\n",
    "            fhout = bc_fhout[cell_bc]\n",
    "            if len(read_tx) > len_tx:\n",
    "                read_tx = read_tx[:len_tx]\n",
    "\n",
    "            read_name = read_tx.name.split()[0] + ':UMI:{}'.format(umi)\n",
    "            read_tx.name = read_name\n",
    "\n",
    "            read_tx.write_to_fastq_file(fhout)\n",
    "            sample_counter['saved'] += 1\n",
    "        except KeyError as e:\n",
    "            fhout = bc_fhout['UNKNOWNBC_R1']\n",
    "            read_umibc.write_to_fastq_file(fhout)\n",
    "            fhout = bc_fhout['UNKNOWNBC_R2']\n",
    "            read_tx.write_to_fastq_file(fhout)\n",
    "            sample_counter['unknown'] += 1\n",
    "    sample_counter['unqualified'] = sample_counter['total'] - sample_counter['qualified']\n",
    "    for _, v in bc_fhout.items():\n",
    "        v.close()\n",
    "    if verbose:\n",
    "        print(sample_counter)\n",
    "    return(sample_counter)"
   ]
  },
  {
   "cell_type": "markdown",
   "metadata": {},
   "source": [
    "# Main Run"
   ]
  },
  {
   "cell_type": "code",
   "execution_count": 28,
   "metadata": {
    "collapsed": true
   },
   "outputs": [],
   "source": [
    "bc_index_fpath='/ifs/data/yanailab/refs/barcodes/barcodes_cel-seq_umis96.tab'\n",
    "r1_fpath='/ifs/home/yy1533/Lab/cel-seq-pipe/demo/data/7_S1_L001_R1_001.fastq.1M.gz'\n",
    "r2_fpath='/ifs/home/yy1533/Lab/cel-seq-pipe/demo/data/7_S1_L001_R2_001.fastq.1M.gz'\n",
    "outdir='/ifs/home/yy1533/Lab/cel-seq-pipe/demo/bc_split_Y'"
   ]
  },
  {
   "cell_type": "code",
   "execution_count": 29,
   "metadata": {
    "collapsed": true
   },
   "outputs": [],
   "source": [
    "bc_dict = bc_dict_seq2id(bc_index_fpath)"
   ]
  },
  {
   "cell_type": "code",
   "execution_count": 30,
   "metadata": {
    "collapsed": true
   },
   "outputs": [],
   "source": [
    "%lprun -f demultiplexing demultiplexing(read1_fpath=r1_fpath, read2_fpath=r2_fpath,\\\n",
    "                         outdir=outdir, bc_dict=bc_dict,\\\n",
    "                         len_umi=6, len_bc=6, len_tx=35, bc_qual_min=10,\\\n",
    "                         do_bc_rev_complement=False, do_tx_rev_complement=False,verbose=False)"
   ]
  },
  {
   "cell_type": "code",
   "execution_count": 10,
   "metadata": {},
   "outputs": [
    {
     "data": {
      "text/plain": [
       "2"
      ]
     },
     "execution_count": 10,
     "metadata": {},
     "output_type": "execute_result"
    }
   ],
   "source": []
  }
 ],
 "metadata": {
  "kernelspec": {
   "display_name": "Python 3",
   "language": "python",
   "name": "python3"
  },
  "language_info": {
   "codemirror_mode": {
    "name": "ipython",
    "version": 3
   },
   "file_extension": ".py",
   "mimetype": "text/x-python",
   "name": "python",
   "nbconvert_exporter": "python",
   "pygments_lexer": "ipython3",
   "version": "3.6.0"
  }
 },
 "nbformat": 4,
 "nbformat_minor": 2
}
