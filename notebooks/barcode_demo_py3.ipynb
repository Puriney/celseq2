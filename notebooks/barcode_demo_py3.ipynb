{
 "cells": [
  {
   "cell_type": "code",
   "execution_count": 1,
   "metadata": {
    "collapsed": true
   },
   "outputs": [],
   "source": [
    "from collections import Counter"
   ]
  },
  {
   "cell_type": "code",
   "execution_count": 2,
   "metadata": {
    "collapsed": true
   },
   "outputs": [],
   "source": [
    "import csv\n",
    "import os\n",
    "import argparse\n",
    "import time\n",
    "import logging"
   ]
  },
  {
   "cell_type": "code",
   "execution_count": 3,
   "metadata": {
    "collapsed": true
   },
   "outputs": [],
   "source": [
    "from helper import filehandle_fastq_gz, print_logger, join_path"
   ]
  },
  {
   "cell_type": "code",
   "execution_count": 4,
   "metadata": {
    "collapsed": true
   },
   "outputs": [],
   "source": [
    "def bc_dict_seq2id(bc_index_fpath):\n",
    "    \"\"\" dict[barcode_seq] = barcode_id \"\"\"\n",
    "    out = dict()\n",
    "    with open(bc_index_fpath, 'rt') as fin:\n",
    "        freader = csv.reader(fin, delimiter='\\t')\n",
    "        next(freader)\n",
    "        out = {row[1]: int(row[0]) for row in freader}\n",
    "    return(out)\n",
    "\n",
    "\n",
    "def bc_dict_id2seq(bc_index_fpath):\n",
    "    out = dict()\n",
    "    with open(bc_index_fpath, 'rt') as fin:\n",
    "        freader = csv.reader(fin, delimiter='\\t')\n",
    "        next(freader)\n",
    "        out = {row[0]: int(row[1]) for row in freader}\n",
    "    return(out)"
   ]
  },
  {
   "cell_type": "code",
   "execution_count": 5,
   "metadata": {
    "collapsed": true
   },
   "outputs": [],
   "source": [
    "\n",
    "def demultiplexing(read1_fpath, read2_fpath, dict_bc_seq2id,\n",
    "                   outdir,\n",
    "                   len_umi=6, len_bc=6, len_tx=35, bc_qual_min=10,\n",
    "                   is_gzip=True,\n",
    "                   do_bc_rev_complement=False,\n",
    "                   do_tx_rev_complement=False,\n",
    "                   verbose=False):\n",
    "    \"\"\"\n",
    "    Demultiplexing to fastq files based on barcode sequence.\n",
    "\n",
    "\n",
    "    \"\"\"\n",
    "    if is_gzip:\n",
    "        fh_umibc = filehandle_fastq_gz(read1_fpath)\n",
    "        fh_tx = filehandle_fastq_gz(read2_fpath)\n",
    "    else:\n",
    "        fh_umibc = open(read1_fpath, 'rt')\n",
    "        fh_tx = open(read2_fpath, 'rt')\n",
    "\n",
    "    sample_counter = Counter()\n",
    "\n",
    "    bc_fhout = dict()\n",
    "    for bc_seq, bc_id in dict_bc_seq2id.items():\n",
    "        bc_fhout[bc_seq] = join_path(outdir,\n",
    "                                     'BC-{}-{}.fastq'.format(bc_id, bc_seq))\n",
    "    bc_fhout['UNKNOWNBC_R1'] = join_path(outdir, 'UNKNOWNBC_R1.fastq')\n",
    "    bc_fhout['UNKNOWNBC_R2'] = join_path(outdir, 'UNKNOWNBC_R2.fastq')\n",
    "\n",
    "    for bc_seq, v in bc_fhout.items():\n",
    "        bc_fhout[bc_seq] = open(v, 'w')\n",
    "\n",
    "    i = 0\n",
    "    while(True):\n",
    "        if verbose and i % 1000000 == 0:\n",
    "            print_logger('Processing {:,} reads...'.format(i))\n",
    "        try:\n",
    "            umibc_name = next(fh_umibc).rstrip()\n",
    "            umibc_seq = next(fh_umibc).rstrip()\n",
    "            next(fh_umibc)\n",
    "            umibc_qualstr = next(fh_umibc).rstrip()\n",
    "            tx_name = next(fh_tx).rstrip()\n",
    "            tx_seq = next(fh_tx).rstrip()\n",
    "            next(fh_tx)\n",
    "            tx_qualstr = next(fh_tx).rstrip()\n",
    "            i += 1\n",
    "        except StopIteration:\n",
    "            break\n",
    "\n",
    "#         Quality check? or user should feed good files\n",
    "#         if not (umibc_name and umibc_seq and umibc_qualstr and tx_name and tx_seq and tx_qualstr):\n",
    "#             raise Exception('FastQError: Possible Broken Fastq. Check pair-{}.\\n'.format(i+1))\n",
    "#         if len(umibc_seq) != len(umibc_qualstr) or len(tx_seq) != len(tx_qualstr):\n",
    "#             raise Exception('FastQError: Possible multi-line Fastq. Convert to 4-line please.\\n')\n",
    "#         if umibc_name.split()[0] != tx_name.split()[0]:\n",
    "#             raise Exception('FastQError: Reads are not paired at pair-{}.\\n'.format(i+1))\n",
    "\n",
    "        sample_counter['total'] += 1\n",
    "\n",
    "        if len(umibc_seq) < len_umi + len_bc:\n",
    "            continue\n",
    "\n",
    "        umibc_min_qual = min((ord(c)-33 for c in umibc_qualstr[:(len_umi + len_bc)]))\n",
    "        if umibc_min_qual < bc_qual_min:\n",
    "            continue\n",
    "\n",
    "        sample_counter['qualified'] += 1\n",
    "\n",
    "        umi, cell_bc = umibc_seq[0:len_umi], umibc_seq[len_umi:(len_umi + len_bc)]\n",
    "        try:\n",
    "            fhout = bc_fhout[cell_bc]\n",
    "        except KeyError:\n",
    "            fhout = bc_fhout['UNKNOWNBC_R1']\n",
    "            fhout.write('{}\\n{}\\n{}\\n{}\\n'.format(umibc_name, umibc_seq,\n",
    "                                                  \"+\", umibc_qualstr))\n",
    "            fhout = bc_fhout['UNKNOWNBC_R2']\n",
    "            fhout.write('{}\\n{}\\n{}\\n{}\\n'.format(tx_name, tx_seq,\n",
    "                                                  \"+\", tx_qualstr))\n",
    "            sample_counter['unknown'] += 1\n",
    "            continue\n",
    "\n",
    "#         if len(tx_seq) < len_tx:\n",
    "#             continue\n",
    "        if len(tx_seq) > len_tx:\n",
    "            tx_seq, tx_qualstr = tx_seq[:len_tx], tx_qualstr[:len_tx]\n",
    "        read_name = '@BC-{}_UMI-{}'.format(cell_bc, umi)\n",
    "        fhout.write('{}\\n{}\\n{}\\n{}\\n'.format(read_name, tx_seq,\n",
    "                                              \"+\", tx_qualstr))\n",
    "        sample_counter[cell_bc] += 1\n",
    "        sample_counter['saved'] += 1\n",
    "\n",
    "\n",
    "    sample_counter['unqualified'] = sample_counter['total'] - sample_counter['qualified']\n",
    "    for _, v in bc_fhout.items():\n",
    "        v.close()\n",
    "    fh_umibc.close()\n",
    "    fh_tx.close()\n",
    "\n",
    "    return(sample_counter)"
   ]
  },
  {
   "cell_type": "code",
   "execution_count": 6,
   "metadata": {
    "collapsed": true
   },
   "outputs": [],
   "source": [
    "\n",
    "def write_demultiplexing(stats, dict_bc_seq2id, stats_fpath):\n",
    "    if stats_fpath is None:\n",
    "        stats_fpath = 'demultiplexing.log'\n",
    "    try:\n",
    "        fh_stats = open(stats_fpath, 'w')\n",
    "    except Exception as e:\n",
    "        raise Exception(e)\n",
    "    fh_stats.write('BC\\tReads(#)\\tReads(%)\\n')\n",
    "    for k, v in dict_bc_seq2id.items():\n",
    "        fh_stats.write('{:03d}-{}\\t{:,}\\t{:06.2f}\\n'.format(v, k, stats[k],\n",
    "                                                            stats[k]/stats['total']*100))\n",
    "    fh_stats.write('{}\\t{}\\t{:06.2f}\\n'.format('saved',\n",
    "                                               stats['saved'],\n",
    "                                               stats['saved']/stats['total']*100))\n",
    "    fh_stats.write('{}\\t{}\\t{:06.2f}\\n'.format('unknown',\n",
    "                                               stats['unknown'],\n",
    "                                               stats['unknown']/stats['total']*100))\n",
    "    fh_stats.write('{}\\t{}\\t{:06.2f}\\n'.format('qualified',\n",
    "                                               stats['qualified'],\n",
    "                                               stats['qualified']/stats['total']*100))\n",
    "    fh_stats.write('{}\\t{}\\t{:06.2f}\\n'.format('unqualified',\n",
    "                                               stats['unqualified'],\n",
    "                                               stats['unqualified']/stats['total']*100))\n",
    "    fh_stats.write('{}\\t{}\\t{:06.2f}\\n'.format('total',\n",
    "                                               stats['total'],\n",
    "                                               stats['total']/stats['total']*100))\n",
    "\n",
    "\n"
   ]
  },
  {
   "cell_type": "markdown",
   "metadata": {},
   "source": [
    "# Main Run"
   ]
  },
  {
   "cell_type": "code",
   "execution_count": 7,
   "metadata": {
    "collapsed": true
   },
   "outputs": [],
   "source": [
    "bc_index_fpath='/ifs/data/yanailab/refs/barcodes/barcodes_cel-seq_umis96.tab'\n",
    "r1_fpath='/ifs/home/yy1533/Lab/cel-seq-pipe/demo/data/7_S1_L001_R1_001.fastq.1M.gz'\n",
    "r2_fpath='/ifs/home/yy1533/Lab/cel-seq-pipe/demo/data/7_S1_L001_R2_001.fastq.1M.gz'\n",
    "# r1_fpath='/ifs/home/yy1533/Lab/cel-seq-pipe/demo/data/r1.gz'\n",
    "# r2_fpath='/ifs/home/yy1533/Lab/cel-seq-pipe/demo/data/r2.gz'\n",
    "outdir='/ifs/home/yy1533/Lab/cel-seq-pipe/demo/bc_split_Y'"
   ]
  },
  {
   "cell_type": "code",
   "execution_count": 8,
   "metadata": {},
   "outputs": [],
   "source": [
    "! mkdir {outdir}"
   ]
  },
  {
   "cell_type": "code",
   "execution_count": 9,
   "metadata": {
    "collapsed": true
   },
   "outputs": [],
   "source": [
    "bc_dict = bc_dict_seq2id(bc_index_fpath)"
   ]
  },
  {
   "cell_type": "code",
   "execution_count": 13,
   "metadata": {
    "collapsed": true
   },
   "outputs": [],
   "source": [
    "t0 = time.time()\n",
    "foo = demultiplexing(read1_fpath=r1_fpath, read2_fpath=r2_fpath,\\\n",
    "                         outdir=outdir, dict_bc_seq2id=bc_dict,\\\n",
    "                         len_umi=6, len_bc=6, len_tx=35, bc_qual_min=10,\\\n",
    "                         do_bc_rev_complement=False, do_tx_rev_complement=False,verbose=False)\n",
    "t1 = time.time()"
   ]
  },
  {
   "cell_type": "code",
   "execution_count": 14,
   "metadata": {},
   "outputs": [
    {
     "name": "stdout",
     "output_type": "stream",
     "text": [
      "Demultiplexing takes 30.812251091003418 seconds.\n"
     ]
    }
   ],
   "source": [
    "print('Demultiplexing takes {} seconds.'.format(t1-t0))"
   ]
  },
  {
   "cell_type": "code",
   "execution_count": 12,
   "metadata": {
    "collapsed": true
   },
   "outputs": [],
   "source": [
    "write_demultiplexing(stats=foo, dict_bc_seq2id=bc_dict, \n",
    "                     stats_fpath=os.path.join(outdir, 'demultiplexing.log'))"
   ]
  },
  {
   "cell_type": "code",
   "execution_count": null,
   "metadata": {
    "collapsed": true
   },
   "outputs": [],
   "source": []
  }
 ],
 "metadata": {
  "kernelspec": {
   "display_name": "Python 3",
   "language": "python",
   "name": "python3"
  },
  "language_info": {
   "codemirror_mode": {
    "name": "ipython",
    "version": 3
   },
   "file_extension": ".py",
   "mimetype": "text/x-python",
   "name": "python",
   "nbconvert_exporter": "python",
   "pygments_lexer": "ipython3",
   "version": "3.6.0"
  }
 },
 "nbformat": 4,
 "nbformat_minor": 2
}
